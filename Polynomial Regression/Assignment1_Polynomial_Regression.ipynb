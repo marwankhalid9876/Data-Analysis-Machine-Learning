{
 "cells": [
  {
   "cell_type": "markdown",
   "metadata": {
    "id": "nz_9QnWBj9_6"
   },
   "source": [
    "# Polynomial Regression Assignment (Please do not remove the output cells)"
   ]
  },
  {
   "cell_type": "markdown",
   "metadata": {
    "id": "oNtRAlw1uQYi"
   },
   "source": [
    "## The objective is to apply polynomial regression on the provided data using 3 regularization techniques"
   ]
  },
  {
   "cell_type": "markdown",
   "metadata": {
    "id": "0Sh_Oqa2j9_7"
   },
   "source": [
    "Tasks are defined below:\n",
    "1-  Read the dataset, and get acquainted with its features and labels. Check the link below for more details about the data.  \n",
    "https://archive.ics.uci.edu/ml/datasets/Air+Quality  \n",
    "\n",
    "2-  This dataset has 5 different output labels. For this assignment we only need the NO2 output. Please drop other outputs.  \n",
    "\n",
    "3-  Handle missing data similar to what was covered in tutorial 3.  \n",
    "\n",
    "4-  Replace the date feature with 3 separate features (Day, Month and Year).  \n",
    "\n",
    "5-  Replace the time feature with 3 separate features (Hours, Minutes and Seconds).  \n",
    "\n",
    "6-  Apply feature scaling.  \n",
    "\n",
    "7-  Evaluate different degrees of lasso CV polynomial regression.  \n",
    "\n",
    "8-  Choose the best degree and print the errors on the test data, model coefficients and the lasso parameters.  \n",
    "\n",
    "9-  Repeat steps 4 and 5 using Ridge CV polynomial regression.  \n",
    "\n",
    "10- Repeat steps 4 and 5 using ElasticNet CV polynomial regression.  \n",
    "\n",
    "11- Compare the errors from the 3 regularization techniques, and save the best model.  \n",
    "\n",
    "12- Load the best model and test it on a sample that you manually created it.  \n"
   ]
  },
  {
   "cell_type": "markdown",
   "metadata": {},
   "source": [
    "## Enter your IDs and Names below"
   ]
  },
  {
   "cell_type": "markdown",
   "metadata": {},
   "source": [
    "1- Mohamed Ahmed Abdelhamid 46-16738\n",
    "  \n",
    "2- Marwan Khalid Farag      46-14780"
   ]
  },
  {
   "cell_type": "markdown",
   "metadata": {
    "id": "bsZFdAtSj9_8"
   },
   "source": [
    "\n",
    "### Imports"
   ]
  },
  {
   "cell_type": "code",
   "execution_count": 1,
   "metadata": {
    "collapsed": true,
    "id": "nuN2-J1bj9_9"
   },
   "outputs": [],
   "source": [
    "import pandas as pd\n",
    "import numpy as np\n",
    "import seaborn as sns\n",
    "import matplotlib.pyplot as plt\n",
    "from sklearn.linear_model import LinearRegression, LassoCV, RidgeCV, ElasticNetCV\n",
    "from sklearn.preprocessing import StandardScaler, PolynomialFeatures\n",
    "from sklearn.model_selection import train_test_split\n",
    "import warnings\n",
    "warnings.filterwarnings(\"ignore\")"
   ]
  },
  {
   "cell_type": "markdown",
   "metadata": {
    "id": "hszifOuTj9__"
   },
   "source": [
    "### 1- Read the data"
   ]
  },
  {
   "cell_type": "code",
   "execution_count": 3,
   "metadata": {
    "collapsed": true,
    "id": "ZzX469qmUTu2"
   },
   "outputs": [
    {
     "name": "stdout",
     "output_type": "stream",
     "text": [
      "The data set has 9357 rows\n"
     ]
    },
    {
     "data": {
      "text/html": [
       "<div>\n",
       "<style scoped>\n",
       "    .dataframe tbody tr th:only-of-type {\n",
       "        vertical-align: middle;\n",
       "    }\n",
       "\n",
       "    .dataframe tbody tr th {\n",
       "        vertical-align: top;\n",
       "    }\n",
       "\n",
       "    .dataframe thead th {\n",
       "        text-align: right;\n",
       "    }\n",
       "</style>\n",
       "<table border=\"1\" class=\"dataframe\">\n",
       "  <thead>\n",
       "    <tr style=\"text-align: right;\">\n",
       "      <th></th>\n",
       "      <th>Date</th>\n",
       "      <th>Time</th>\n",
       "      <th>CO(GT)</th>\n",
       "      <th>PT08.S1(CO)</th>\n",
       "      <th>NMHC(GT)</th>\n",
       "      <th>C6H6(GT)</th>\n",
       "      <th>PT08.S2(NMHC)</th>\n",
       "      <th>NOx(GT)</th>\n",
       "      <th>PT08.S3(NOx)</th>\n",
       "      <th>NO2(GT)</th>\n",
       "      <th>PT08.S4(NO2)</th>\n",
       "      <th>PT08.S5(O3)</th>\n",
       "      <th>T</th>\n",
       "      <th>RH</th>\n",
       "      <th>AH</th>\n",
       "    </tr>\n",
       "  </thead>\n",
       "  <tbody>\n",
       "    <tr>\n",
       "      <th>0</th>\n",
       "      <td>2004-03-10</td>\n",
       "      <td>18:00:00</td>\n",
       "      <td>2.6</td>\n",
       "      <td>1360.0</td>\n",
       "      <td>150.0</td>\n",
       "      <td>11.9</td>\n",
       "      <td>1046.0</td>\n",
       "      <td>166.0</td>\n",
       "      <td>1056.0</td>\n",
       "      <td>113.0</td>\n",
       "      <td>1692.0</td>\n",
       "      <td>1268.0</td>\n",
       "      <td>13.6</td>\n",
       "      <td>48.9</td>\n",
       "      <td>0.7578</td>\n",
       "    </tr>\n",
       "    <tr>\n",
       "      <th>1</th>\n",
       "      <td>2004-03-10</td>\n",
       "      <td>19:00:00</td>\n",
       "      <td>2.0</td>\n",
       "      <td>1292.0</td>\n",
       "      <td>112.0</td>\n",
       "      <td>9.4</td>\n",
       "      <td>955.0</td>\n",
       "      <td>103.0</td>\n",
       "      <td>1174.0</td>\n",
       "      <td>92.0</td>\n",
       "      <td>1559.0</td>\n",
       "      <td>972.0</td>\n",
       "      <td>13.3</td>\n",
       "      <td>47.7</td>\n",
       "      <td>0.7255</td>\n",
       "    </tr>\n",
       "    <tr>\n",
       "      <th>2</th>\n",
       "      <td>2004-03-10</td>\n",
       "      <td>20:00:00</td>\n",
       "      <td>2.2</td>\n",
       "      <td>1402.0</td>\n",
       "      <td>88.0</td>\n",
       "      <td>9.0</td>\n",
       "      <td>939.0</td>\n",
       "      <td>131.0</td>\n",
       "      <td>1140.0</td>\n",
       "      <td>114.0</td>\n",
       "      <td>1555.0</td>\n",
       "      <td>1074.0</td>\n",
       "      <td>11.9</td>\n",
       "      <td>54.0</td>\n",
       "      <td>0.7502</td>\n",
       "    </tr>\n",
       "    <tr>\n",
       "      <th>3</th>\n",
       "      <td>2004-03-10</td>\n",
       "      <td>21:00:00</td>\n",
       "      <td>2.2</td>\n",
       "      <td>1376.0</td>\n",
       "      <td>80.0</td>\n",
       "      <td>9.2</td>\n",
       "      <td>948.0</td>\n",
       "      <td>172.0</td>\n",
       "      <td>1092.0</td>\n",
       "      <td>122.0</td>\n",
       "      <td>1584.0</td>\n",
       "      <td>1203.0</td>\n",
       "      <td>11.0</td>\n",
       "      <td>60.0</td>\n",
       "      <td>0.7867</td>\n",
       "    </tr>\n",
       "    <tr>\n",
       "      <th>4</th>\n",
       "      <td>2004-03-10</td>\n",
       "      <td>22:00:00</td>\n",
       "      <td>1.6</td>\n",
       "      <td>1272.0</td>\n",
       "      <td>51.0</td>\n",
       "      <td>6.5</td>\n",
       "      <td>836.0</td>\n",
       "      <td>131.0</td>\n",
       "      <td>1205.0</td>\n",
       "      <td>116.0</td>\n",
       "      <td>1490.0</td>\n",
       "      <td>1110.0</td>\n",
       "      <td>11.2</td>\n",
       "      <td>59.6</td>\n",
       "      <td>0.7888</td>\n",
       "    </tr>\n",
       "  </tbody>\n",
       "</table>\n",
       "</div>"
      ],
      "text/plain": [
       "        Date      Time  CO(GT)  PT08.S1(CO)  NMHC(GT)  C6H6(GT)  \\\n",
       "0 2004-03-10  18:00:00     2.6       1360.0     150.0      11.9   \n",
       "1 2004-03-10  19:00:00     2.0       1292.0     112.0       9.4   \n",
       "2 2004-03-10  20:00:00     2.2       1402.0      88.0       9.0   \n",
       "3 2004-03-10  21:00:00     2.2       1376.0      80.0       9.2   \n",
       "4 2004-03-10  22:00:00     1.6       1272.0      51.0       6.5   \n",
       "\n",
       "   PT08.S2(NMHC)  NOx(GT)  PT08.S3(NOx)  NO2(GT)  PT08.S4(NO2)  PT08.S5(O3)  \\\n",
       "0         1046.0    166.0        1056.0    113.0        1692.0       1268.0   \n",
       "1          955.0    103.0        1174.0     92.0        1559.0        972.0   \n",
       "2          939.0    131.0        1140.0    114.0        1555.0       1074.0   \n",
       "3          948.0    172.0        1092.0    122.0        1584.0       1203.0   \n",
       "4          836.0    131.0        1205.0    116.0        1490.0       1110.0   \n",
       "\n",
       "      T    RH      AH  \n",
       "0  13.6  48.9  0.7578  \n",
       "1  13.3  47.7  0.7255  \n",
       "2  11.9  54.0  0.7502  \n",
       "3  11.0  60.0  0.7867  \n",
       "4  11.2  59.6  0.7888  "
      ]
     },
     "execution_count": 3,
     "metadata": {},
     "output_type": "execute_result"
    }
   ],
   "source": [
    "df = pd.read_csv('AirQualityUCI.csv', na_values=[-200], parse_dates=['Date'])\n",
    "print('The data set has {} rows'.format(df.shape[0]))\n",
    "df.head()"
   ]
  },
  {
   "cell_type": "markdown",
   "metadata": {
    "id": "TMHFhOfXuQYl"
   },
   "source": [
    "### 2- Drop unwanted labels"
   ]
  },
  {
   "cell_type": "code",
   "execution_count": 5,
   "metadata": {},
   "outputs": [
    {
     "data": {
      "text/plain": [
       "Index(['Date', 'Time', 'CO(GT)', 'PT08.S1(CO)', 'NMHC(GT)', 'C6H6(GT)',\n",
       "       'PT08.S2(NMHC)', 'NOx(GT)', 'PT08.S3(NOx)', 'NO2(GT)', 'PT08.S4(NO2)',\n",
       "       'PT08.S5(O3)', 'T', 'RH', 'AH'],\n",
       "      dtype='object')"
      ]
     },
     "execution_count": 5,
     "metadata": {},
     "output_type": "execute_result"
    }
   ],
   "source": [
    "df.columns"
   ]
  },
  {
   "cell_type": "code",
   "execution_count": 6,
   "metadata": {
    "collapsed": true,
    "id": "L7395CTWuQYm"
   },
   "outputs": [
    {
     "data": {
      "text/html": [
       "<div>\n",
       "<style scoped>\n",
       "    .dataframe tbody tr th:only-of-type {\n",
       "        vertical-align: middle;\n",
       "    }\n",
       "\n",
       "    .dataframe tbody tr th {\n",
       "        vertical-align: top;\n",
       "    }\n",
       "\n",
       "    .dataframe thead th {\n",
       "        text-align: right;\n",
       "    }\n",
       "</style>\n",
       "<table border=\"1\" class=\"dataframe\">\n",
       "  <thead>\n",
       "    <tr style=\"text-align: right;\">\n",
       "      <th></th>\n",
       "      <th>Date</th>\n",
       "      <th>Time</th>\n",
       "      <th>PT08.S1(CO)</th>\n",
       "      <th>PT08.S2(NMHC)</th>\n",
       "      <th>PT08.S3(NOx)</th>\n",
       "      <th>NO2(GT)</th>\n",
       "      <th>PT08.S4(NO2)</th>\n",
       "      <th>PT08.S5(O3)</th>\n",
       "      <th>T</th>\n",
       "      <th>RH</th>\n",
       "      <th>AH</th>\n",
       "    </tr>\n",
       "  </thead>\n",
       "  <tbody>\n",
       "    <tr>\n",
       "      <th>0</th>\n",
       "      <td>2004-03-10</td>\n",
       "      <td>18:00:00</td>\n",
       "      <td>1360.0</td>\n",
       "      <td>1046.0</td>\n",
       "      <td>1056.0</td>\n",
       "      <td>113.0</td>\n",
       "      <td>1692.0</td>\n",
       "      <td>1268.0</td>\n",
       "      <td>13.6</td>\n",
       "      <td>48.9</td>\n",
       "      <td>0.7578</td>\n",
       "    </tr>\n",
       "    <tr>\n",
       "      <th>1</th>\n",
       "      <td>2004-03-10</td>\n",
       "      <td>19:00:00</td>\n",
       "      <td>1292.0</td>\n",
       "      <td>955.0</td>\n",
       "      <td>1174.0</td>\n",
       "      <td>92.0</td>\n",
       "      <td>1559.0</td>\n",
       "      <td>972.0</td>\n",
       "      <td>13.3</td>\n",
       "      <td>47.7</td>\n",
       "      <td>0.7255</td>\n",
       "    </tr>\n",
       "    <tr>\n",
       "      <th>2</th>\n",
       "      <td>2004-03-10</td>\n",
       "      <td>20:00:00</td>\n",
       "      <td>1402.0</td>\n",
       "      <td>939.0</td>\n",
       "      <td>1140.0</td>\n",
       "      <td>114.0</td>\n",
       "      <td>1555.0</td>\n",
       "      <td>1074.0</td>\n",
       "      <td>11.9</td>\n",
       "      <td>54.0</td>\n",
       "      <td>0.7502</td>\n",
       "    </tr>\n",
       "    <tr>\n",
       "      <th>3</th>\n",
       "      <td>2004-03-10</td>\n",
       "      <td>21:00:00</td>\n",
       "      <td>1376.0</td>\n",
       "      <td>948.0</td>\n",
       "      <td>1092.0</td>\n",
       "      <td>122.0</td>\n",
       "      <td>1584.0</td>\n",
       "      <td>1203.0</td>\n",
       "      <td>11.0</td>\n",
       "      <td>60.0</td>\n",
       "      <td>0.7867</td>\n",
       "    </tr>\n",
       "    <tr>\n",
       "      <th>4</th>\n",
       "      <td>2004-03-10</td>\n",
       "      <td>22:00:00</td>\n",
       "      <td>1272.0</td>\n",
       "      <td>836.0</td>\n",
       "      <td>1205.0</td>\n",
       "      <td>116.0</td>\n",
       "      <td>1490.0</td>\n",
       "      <td>1110.0</td>\n",
       "      <td>11.2</td>\n",
       "      <td>59.6</td>\n",
       "      <td>0.7888</td>\n",
       "    </tr>\n",
       "  </tbody>\n",
       "</table>\n",
       "</div>"
      ],
      "text/plain": [
       "        Date      Time  PT08.S1(CO)  PT08.S2(NMHC)  PT08.S3(NOx)  NO2(GT)  \\\n",
       "0 2004-03-10  18:00:00       1360.0         1046.0        1056.0    113.0   \n",
       "1 2004-03-10  19:00:00       1292.0          955.0        1174.0     92.0   \n",
       "2 2004-03-10  20:00:00       1402.0          939.0        1140.0    114.0   \n",
       "3 2004-03-10  21:00:00       1376.0          948.0        1092.0    122.0   \n",
       "4 2004-03-10  22:00:00       1272.0          836.0        1205.0    116.0   \n",
       "\n",
       "   PT08.S4(NO2)  PT08.S5(O3)     T    RH      AH  \n",
       "0        1692.0       1268.0  13.6  48.9  0.7578  \n",
       "1        1559.0        972.0  13.3  47.7  0.7255  \n",
       "2        1555.0       1074.0  11.9  54.0  0.7502  \n",
       "3        1584.0       1203.0  11.0  60.0  0.7867  \n",
       "4        1490.0       1110.0  11.2  59.6  0.7888  "
      ]
     },
     "execution_count": 6,
     "metadata": {},
     "output_type": "execute_result"
    }
   ],
   "source": [
    "# dfV1 = df version 1\n",
    "df.drop(['CO(GT)', 'NMHC(GT)', 'C6H6(GT)', 'NOx(GT)'], axis='columns', inplace=True)\n",
    "df.head()"
   ]
  },
  {
   "cell_type": "markdown",
   "metadata": {
    "id": "rMSYDzn1uQYm"
   },
   "source": [
    "### 3- Handle missing data"
   ]
  },
  {
   "cell_type": "code",
   "execution_count": 17,
   "metadata": {},
   "outputs": [],
   "source": [
    "def percentage_of_missing(df):\n",
    "    missing_column = df.columns[df.isna().any()]\n",
    "    percentage = df[missing_column].isna().mean().sort_values(ascending=False) * 100\n",
    "    return percentage"
   ]
  },
  {
   "cell_type": "code",
   "execution_count": 18,
   "metadata": {},
   "outputs": [
    {
     "name": "stdout",
     "output_type": "stream",
     "text": [
      "NO2(GT)          17.54836\n",
      "PT08.S1(CO)       3.91151\n",
      "PT08.S2(NMHC)     3.91151\n",
      "PT08.S3(NOx)      3.91151\n",
      "PT08.S4(NO2)      3.91151\n",
      "PT08.S5(O3)       3.91151\n",
      "T                 3.91151\n",
      "RH                3.91151\n",
      "AH                3.91151\n",
      "dtype: float64\n"
     ]
    }
   ],
   "source": [
    "percentage = percentage_of_missing(df)\n",
    "print(percentage)"
   ]
  },
  {
   "cell_type": "code",
   "execution_count": 19,
   "metadata": {},
   "outputs": [
    {
     "data": {
      "image/png": "[encoded data removed]",
      "text/plain": [
       "<Figure size 432x288 with 1 Axes>"
      ]
     },
     "metadata": {
      "needs_background": "light"
     },
     "output_type": "display_data"
    }
   ],
   "source": [
    "sns.barplot(x=percentage.index, y=percentage)\n",
    "plt.xticks(rotation=90)\n",
    "plt.show()"
   ]
  },
  {
   "cell_type": "code",
   "execution_count": 20,
   "metadata": {},
   "outputs": [],
   "source": [
    "df = df[~df['NO2(GT)'].isna()]"
   ]
  },
  {
   "cell_type": "code",
   "execution_count": 21,
   "metadata": {},
   "outputs": [
    {
     "data": {
      "text/plain": [
       "<AxesSubplot:xlabel='PT08.S1(CO)', ylabel='Density'>"
      ]
     },
     "execution_count": 21,
     "metadata": {},
     "output_type": "execute_result"
    },
    {
     "data": {
      "text/plain": [
       "<Figure size 1080x360 with 0 Axes>"
      ]
     },
     "metadata": {},
     "output_type": "display_data"
    },
    {
     "data": {
      "image/png": "[encoded data removed]",
      "text/plain": [
       "<Figure size 1080x1080 with 8 Axes>"
      ]
     },
     "metadata": {
      "needs_background": "light"
     },
     "output_type": "display_data"
    }
   ],
   "source": [
    "plt.figure(figsize=(15,5))\n",
    "fig, ax = plt.subplots(4,2)\n",
    "fig.set_figheight(15)\n",
    "fig.set_figwidth(15)\n",
    "\n",
    "sns.distplot(df['AH'], ax=ax[0][0])\n",
    "sns.distplot(df['RH'], ax=ax[0][1])\n",
    "sns.distplot(df['T'], ax=ax[1][0])\n",
    "sns.distplot(df['PT08.S5(O3)'], ax=ax[1][1])\n",
    "\n",
    "sns.distplot(df['PT08.S4(NO2)'], ax=ax[2][0])\n",
    "sns.distplot(df['PT08.S3(NOx)'], ax=ax[2][1], color='r')\n",
    "sns.distplot(df['PT08.S2(NMHC)'], ax=ax[3][0], color='r')\n",
    "sns.distplot(df['PT08.S1(CO)'], ax=ax[3][1], color='r')\n"
   ]
  },
  {
   "cell_type": "markdown",
   "metadata": {},
   "source": [
    "### From the previous graphs we can notice that the all distributions are normal except PT08.S3(NOx), PT08.S2(NMHC) and PT08.S1(CO).\n",
    "### Based on this we will impute the missing values for all columns with the mean and we will use the median for these three columns."
   ]
  },
  {
   "cell_type": "code",
   "execution_count": 22,
   "metadata": {},
   "outputs": [
    {
     "data": {
      "text/plain": [
       "Date             0\n",
       "Time             0\n",
       "PT08.S1(CO)      0\n",
       "PT08.S2(NMHC)    0\n",
       "PT08.S3(NOx)     0\n",
       "NO2(GT)          0\n",
       "PT08.S4(NO2)     0\n",
       "PT08.S5(O3)      0\n",
       "T                0\n",
       "RH               0\n",
       "AH               0\n",
       "dtype: int64"
      ]
     },
     "execution_count": 22,
     "metadata": {},
     "output_type": "execute_result"
    }
   ],
   "source": [
    "df['PT08.S3(NOx)'] = df['PT08.S3(NOx)'].fillna(df['PT08.S3(NOx)'].median())\n",
    "df['PT08.S2(NMHC)'] = df['PT08.S2(NMHC)'].fillna(df['PT08.S2(NMHC)'].median())\n",
    "df['PT08.S1(CO)'] = df['PT08.S1(CO)'].fillna(df['PT08.S1(CO)'].median())\n",
    "\n",
    "df['AH'] = df['AH'].fillna(df['AH'].mean())\n",
    "df['RH'] = df['RH'].fillna(df['RH'].mean())\n",
    "df['T'] = df['T'].fillna(df['T'].mean())\n",
    "df['PT08.S4(NO2)'] = df['PT08.S4(NO2)'].fillna(df['PT08.S4(NO2)'].mean())\n",
    "df['PT08.S5(O3)'] = df['PT08.S5(O3)'].fillna(df['PT08.S5(O3)'].mean())\n",
    "\n",
    "df.isna().sum()"
   ]
  },
  {
   "cell_type": "markdown",
   "metadata": {
    "id": "v7vinFJmuQYn"
   },
   "source": [
    "### 4- Replace date feature"
   ]
  },
  {
   "cell_type": "code",
   "execution_count": 23,
   "metadata": {},
   "outputs": [],
   "source": [
    "df['DateTime'] = df['Date'].astype(str) + 'T' + df['Time'].astype(str)\n",
    "df['DateTime'] = pd.to_datetime(df['DateTime'], infer_datetime_format=True) "
   ]
  },
  {
   "cell_type": "code",
   "execution_count": 24,
   "metadata": {
    "collapsed": true,
    "id": "e1X8-GXvuQYn"
   },
   "outputs": [],
   "source": [
    "df['year'] = df['DateTime'].dt.year\n",
    "df['month'] = df['DateTime'].dt.month\n",
    "df['day'] = df['DateTime'].dt.day"
   ]
  },
  {
   "cell_type": "markdown",
   "metadata": {
    "id": "zHvSGF9fuQYo"
   },
   "source": [
    "### 5- Replace time feature"
   ]
  },
  {
   "cell_type": "code",
   "execution_count": 25,
   "metadata": {},
   "outputs": [],
   "source": [
    "df['hour'] = df['DateTime'].dt.hour\n",
    "df['minute'] = df['DateTime'].dt.minute\n",
    "df['seconds'] = df['DateTime'].dt.second\n",
    "\n",
    "df.drop(['Date', 'Time', 'DateTime'], axis='columns', inplace=True)"
   ]
  },
  {
   "cell_type": "code",
   "execution_count": 26,
   "metadata": {},
   "outputs": [
    {
     "data": {
      "text/html": [
       "<div>\n",
       "<style scoped>\n",
       "    .dataframe tbody tr th:only-of-type {\n",
       "        vertical-align: middle;\n",
       "    }\n",
       "\n",
       "    .dataframe tbody tr th {\n",
       "        vertical-align: top;\n",
       "    }\n",
       "\n",
       "    .dataframe thead th {\n",
       "        text-align: right;\n",
       "    }\n",
       "</style>\n",
       "<table border=\"1\" class=\"dataframe\">\n",
       "  <thead>\n",
       "    <tr style=\"text-align: right;\">\n",
       "      <th></th>\n",
       "      <th>PT08.S1(CO)</th>\n",
       "      <th>PT08.S2(NMHC)</th>\n",
       "      <th>PT08.S3(NOx)</th>\n",
       "      <th>NO2(GT)</th>\n",
       "      <th>PT08.S4(NO2)</th>\n",
       "      <th>PT08.S5(O3)</th>\n",
       "      <th>T</th>\n",
       "      <th>RH</th>\n",
       "      <th>AH</th>\n",
       "      <th>year</th>\n",
       "      <th>month</th>\n",
       "      <th>day</th>\n",
       "      <th>hour</th>\n",
       "      <th>minute</th>\n",
       "      <th>seconds</th>\n",
       "    </tr>\n",
       "  </thead>\n",
       "  <tbody>\n",
       "    <tr>\n",
       "      <th>0</th>\n",
       "      <td>1360.0</td>\n",
       "      <td>1046.0</td>\n",
       "      <td>1056.0</td>\n",
       "      <td>113.0</td>\n",
       "      <td>1692.0</td>\n",
       "      <td>1268.0</td>\n",
       "      <td>13.6</td>\n",
       "      <td>48.9</td>\n",
       "      <td>0.7578</td>\n",
       "      <td>2004</td>\n",
       "      <td>3</td>\n",
       "      <td>10</td>\n",
       "      <td>18</td>\n",
       "      <td>0</td>\n",
       "      <td>0</td>\n",
       "    </tr>\n",
       "    <tr>\n",
       "      <th>1</th>\n",
       "      <td>1292.0</td>\n",
       "      <td>955.0</td>\n",
       "      <td>1174.0</td>\n",
       "      <td>92.0</td>\n",
       "      <td>1559.0</td>\n",
       "      <td>972.0</td>\n",
       "      <td>13.3</td>\n",
       "      <td>47.7</td>\n",
       "      <td>0.7255</td>\n",
       "      <td>2004</td>\n",
       "      <td>3</td>\n",
       "      <td>10</td>\n",
       "      <td>19</td>\n",
       "      <td>0</td>\n",
       "      <td>0</td>\n",
       "    </tr>\n",
       "    <tr>\n",
       "      <th>2</th>\n",
       "      <td>1402.0</td>\n",
       "      <td>939.0</td>\n",
       "      <td>1140.0</td>\n",
       "      <td>114.0</td>\n",
       "      <td>1555.0</td>\n",
       "      <td>1074.0</td>\n",
       "      <td>11.9</td>\n",
       "      <td>54.0</td>\n",
       "      <td>0.7502</td>\n",
       "      <td>2004</td>\n",
       "      <td>3</td>\n",
       "      <td>10</td>\n",
       "      <td>20</td>\n",
       "      <td>0</td>\n",
       "      <td>0</td>\n",
       "    </tr>\n",
       "    <tr>\n",
       "      <th>3</th>\n",
       "      <td>1376.0</td>\n",
       "      <td>948.0</td>\n",
       "      <td>1092.0</td>\n",
       "      <td>122.0</td>\n",
       "      <td>1584.0</td>\n",
       "      <td>1203.0</td>\n",
       "      <td>11.0</td>\n",
       "      <td>60.0</td>\n",
       "      <td>0.7867</td>\n",
       "      <td>2004</td>\n",
       "      <td>3</td>\n",
       "      <td>10</td>\n",
       "      <td>21</td>\n",
       "      <td>0</td>\n",
       "      <td>0</td>\n",
       "    </tr>\n",
       "    <tr>\n",
       "      <th>4</th>\n",
       "      <td>1272.0</td>\n",
       "      <td>836.0</td>\n",
       "      <td>1205.0</td>\n",
       "      <td>116.0</td>\n",
       "      <td>1490.0</td>\n",
       "      <td>1110.0</td>\n",
       "      <td>11.2</td>\n",
       "      <td>59.6</td>\n",
       "      <td>0.7888</td>\n",
       "      <td>2004</td>\n",
       "      <td>3</td>\n",
       "      <td>10</td>\n",
       "      <td>22</td>\n",
       "      <td>0</td>\n",
       "      <td>0</td>\n",
       "    </tr>\n",
       "  </tbody>\n",
       "</table>\n",
       "</div>"
      ],
      "text/plain": [
       "   PT08.S1(CO)  PT08.S2(NMHC)  PT08.S3(NOx)  NO2(GT)  PT08.S4(NO2)  \\\n",
       "0       1360.0         1046.0        1056.0    113.0        1692.0   \n",
       "1       1292.0          955.0        1174.0     92.0        1559.0   \n",
       "2       1402.0          939.0        1140.0    114.0        1555.0   \n",
       "3       1376.0          948.0        1092.0    122.0        1584.0   \n",
       "4       1272.0          836.0        1205.0    116.0        1490.0   \n",
       "\n",
       "   PT08.S5(O3)     T    RH      AH  year  month  day  hour  minute  seconds  \n",
       "0       1268.0  13.6  48.9  0.7578  2004      3   10    18       0        0  \n",
       "1        972.0  13.3  47.7  0.7255  2004      3   10    19       0        0  \n",
       "2       1074.0  11.9  54.0  0.7502  2004      3   10    20       0        0  \n",
       "3       1203.0  11.0  60.0  0.7867  2004      3   10    21       0        0  \n",
       "4       1110.0  11.2  59.6  0.7888  2004      3   10    22       0        0  "
      ]
     },
     "execution_count": 26,
     "metadata": {},
     "output_type": "execute_result"
    }
   ],
   "source": [
    "df.head()"
   ]
  },
  {
   "cell_type": "markdown",
   "metadata": {
    "id": "rV0bYDXzuQYo"
   },
   "source": [
    "### 6- Apply feature scaling"
   ]
  },
  {
   "cell_type": "code",
   "execution_count": 27,
   "metadata": {
    "collapsed": true,
    "id": "qIgBH_d2uQYo"
   },
   "outputs": [],
   "source": [
    "X = df.drop(['NO2(GT)'], axis='columns')\n",
    "y = df['NO2(GT)']\n",
    "\n",
    "X_train, X_test, y_train, y_test = train_test_split(X, y, test_size=0.2)\n",
    "\n",
    "scalar = StandardScaler()\n",
    "\n",
    "# scalar.fit(X_train)\n",
    "# X_train = scalar.transform(X_train)\n",
    "# X_test = scalar.transform(X_test)"
   ]
  },
  {
   "cell_type": "markdown",
   "metadata": {},
   "source": [
    "## Let's define some functions that will help us"
   ]
  },
  {
   "cell_type": "code",
   "execution_count": 29,
   "metadata": {},
   "outputs": [],
   "source": [
    "def evaluate_model(model_type):\n",
    "    from sklearn.metrics import mean_squared_error, mean_absolute_error\n",
    "    train_rmse_errors = []\n",
    "    test_rmse_errors = []\n",
    "    train_abs_errors = []\n",
    "    test_abs_errors = []\n",
    "    models = []\n",
    "    for i in range(1, 5):\n",
    "        converter = PolynomialFeatures(degree=i)\n",
    "\n",
    "        X_train_var = converter.fit_transform(X_train)\n",
    "        X_test_var = converter.fit_transform(X_test)\n",
    "        \n",
    "        scalar.fit(X_train_var)\n",
    "        X_train_var = scalar.transform(X_train_var)\n",
    "        X_test_var = scalar.transform(X_test_var)\n",
    "\n",
    "        if model_type == 'lasso':\n",
    "            model = LassoCV(eps=0.1,n_alphas=10,cv=5)\n",
    "\n",
    "        elif model_type == 'ridge':\n",
    "            model = RidgeCV(alphas=(0.01, 0.1, 1.0, 10.0), scoring='neg_mean_absolute_error')\n",
    "            \n",
    "        else:\n",
    "            model = ElasticNetCV(l1_ratio=[.1, .5, .7,.9, .95, .99, 1],tol=0.01)\n",
    "\n",
    "        model.fit(X_train_var, y_train)\n",
    "        \n",
    "        y_hat_test = model.predict(X_test_var)\n",
    "        y_hat_train = model.predict(X_train_var)\n",
    "\n",
    "        train_rmse_errors.append(np.sqrt(mean_squared_error(y_train, y_hat_train)))\n",
    "        test_rmse_errors.append(np.sqrt(mean_squared_error(y_test, y_hat_test)))\n",
    "\n",
    "        train_abs_errors.append(mean_absolute_error(y_train, y_hat_train))\n",
    "        test_abs_errors.append(mean_absolute_error(y_test, y_hat_test))\n",
    "        models.append(model)\n",
    "    return train_rmse_errors, test_rmse_errors, train_abs_errors, test_abs_errors, models\n",
    "\n",
    "def plot_errors(train_rmse_errors, test_rmse_errors, train_abs_errors, test_abs_errors):\n",
    "    plt.plot(range(1,5),train_rmse_errors,label='RMSE Train')\n",
    "    plt.plot(range(1,5),test_rmse_errors,label='RMSE Test')\n",
    "    plt.plot(range(1,5),train_abs_errors,label='ABS Train')\n",
    "    plt.plot(range(1,5),test_abs_errors,label='ABS Test')\n",
    "    plt.xlabel(\"Polynomial Complexity\")\n",
    "    plt.ylabel(\"Error\")\n",
    "    plt.legend()\n",
    "    plt.show()\n",
    "\n",
    "def print_results(train_rmse_errors, test_rmse_errors, train_abs_errors, test_abs_errors, models):\n",
    "    test_rmse_errors = np.array(test_rmse_errors)\n",
    "    min_index = np.where(test_rmse_errors == test_rmse_errors.min())[0][0]\n",
    "    min_error = test_rmse_errors.min()\n",
    "    best_model = models[min_index]\n",
    "    print('Best model is of degree {}'.format(min_index+1))\n",
    "    print('RMSE Test of best model: {:.2f}'.format(test_rmse_errors[min_index]))\n",
    "    print('RMSE Train of best model: {:.2f}'.format(train_rmse_errors[min_index]))\n",
    "    print('ABS Test of best model: {:.2f}'.format(test_abs_errors[min_index]))\n",
    "    print('ABS Train of best model: {:.2f}'.format(train_abs_errors[min_index]))\n",
    "    print('-------------------')\n",
    "    print('Best model coefficients are: ')\n",
    "    print(best_model.coef_)\n",
    "    print('-------------------')\n",
    "    print('The model chose the following alpha: ')\n",
    "    print(best_model.alpha_)\n",
    "    return test_rmse_errors[min_index], best_model, min_index+1"
   ]
  },
  {
   "cell_type": "markdown",
   "metadata": {
    "id": "-Bh7ou_4uQYp"
   },
   "source": [
    "### 7- Evaluate different degrees of lasso CV polynomial regression"
   ]
  },
  {
   "cell_type": "code",
   "execution_count": 30,
   "metadata": {
    "collapsed": true,
    "id": "tLBRmfjuuQYp"
   },
   "outputs": [
    {
     "data": {
      "image/png": "[encoded data removed]",
      "text/plain": [
       "<Figure size 432x288 with 1 Axes>"
      ]
     },
     "metadata": {
      "needs_background": "light"
     },
     "output_type": "display_data"
    }
   ],
   "source": [
    "train_rmse_errors, test_rmse_errors, train_abs_errors, test_abs_errors, models = evaluate_model('lasso')\n",
    "plot_errors(train_rmse_errors, test_rmse_errors, train_abs_errors, test_abs_errors)"
   ]
  },
  {
   "cell_type": "markdown",
   "metadata": {
    "id": "pDn9gby-uQYp"
   },
   "source": [
    "### 8- Choose the best degree and print the errors, model coefficients and the lasso parameters."
   ]
  },
  {
   "cell_type": "code",
   "execution_count": 31,
   "metadata": {
    "collapsed": true,
    "id": "xLdmHaPBuQYq"
   },
   "outputs": [
    {
     "name": "stdout",
     "output_type": "stream",
     "text": [
      "Best model is of degree 2\n",
      "RMSE Test of best model: 24.33\n",
      "RMSE Train of best model: 25.92\n",
      "ABS Test of best model: 17.74\n",
      "ABS Train of best model: 18.61\n",
      "-------------------\n",
      "Best model coefficients are: \n",
      "[ 0.          0.          5.33007737 -6.95928234 -0.          9.07656569\n",
      " -0.         -0.         -0.          6.68295373  0.         -0.\n",
      "  0.          0.          0.          0.          0.         -0.\n",
      "  0.          0.          0.         -0.         -0.          0.\n",
      "  0.          0.          0.          0.          0.          0.\n",
      "  0.          0.          0.          0.          0.         -0.\n",
      "  3.20090401  0.          0.          0.          0.          0.\n",
      " -0.         -0.          0.         -0.         -0.         -4.74672616\n",
      " -0.         -0.         -0.          0.          0.          0.\n",
      " -0.          0.         -0.         -0.         -0.         -0.\n",
      " -0.         -0.          0.          0.          0.          0.\n",
      "  0.          0.         -0.          2.13029196  0.          0.\n",
      "  6.59928312  0.          0.          0.         -8.8680699  -0.\n",
      " -0.         -0.         -0.          0.          0.          0.\n",
      " -0.         -2.0957574  -0.         -0.         -0.          0.\n",
      "  0.          0.         -0.         -0.         -0.         -0.\n",
      "  0.          0.          0.          0.65754572  0.         -0.\n",
      "  0.          0.          0.          0.          0.          0.\n",
      "  0.          0.         -0.          0.          0.          0.\n",
      "  0.          0.          0.          0.          0.          0.        ]\n",
      "-------------------\n",
      "The model chose the following alpha: \n",
      "3.2889309338582007\n"
     ]
    }
   ],
   "source": [
    "lasso_error, best_lasso, lasso_degree = print_results(train_rmse_errors, test_rmse_errors, train_abs_errors, test_abs_errors, models)"
   ]
  },
  {
   "cell_type": "markdown",
   "metadata": {
    "id": "M8SOg6KEuQYq"
   },
   "source": [
    "### 9a- Evaluate different degrees of Ridge CV polynomial regression"
   ]
  },
  {
   "cell_type": "code",
   "execution_count": 32,
   "metadata": {
    "collapsed": true,
    "id": "IqWaySbcuQYq"
   },
   "outputs": [
    {
     "data": {
      "image/png": "[encoded data removed]",
      "text/plain": [
       "<Figure size 432x288 with 1 Axes>"
      ]
     },
     "metadata": {
      "needs_background": "light"
     },
     "output_type": "display_data"
    }
   ],
   "source": [
    "train_rmse_errors, test_rmse_errors, train_abs_errors, test_abs_errors, models = evaluate_model('ridge')\n",
    "plot_errors(train_rmse_errors, test_rmse_errors, train_abs_errors, test_abs_errors)"
   ]
  },
  {
   "cell_type": "markdown",
   "metadata": {
    "id": "8Bj_3j9RuQYr"
   },
   "source": [
    "### 9b- Choose the best degree and print the errors, model coefficients and the Ridge parameters."
   ]
  },
  {
   "cell_type": "code",
   "execution_count": 33,
   "metadata": {
    "collapsed": true,
    "id": "4q5E5NnbuQYr"
   },
   "outputs": [
    {
     "name": "stdout",
     "output_type": "stream",
     "text": [
      "Best model is of degree 4\n",
      "RMSE Test of best model: 17.14\n",
      "RMSE Train of best model: 14.90\n",
      "ABS Test of best model: 11.38\n",
      "ABS Train of best model: 10.40\n",
      "-------------------\n",
      "Best model coefficients are: \n",
      "[ 0.         19.28006295 30.19010089 ...  0.          0.\n",
      "  0.        ]\n",
      "-------------------\n",
      "The model chose the following alpha: \n",
      "0.01\n"
     ]
    }
   ],
   "source": [
    "ridge_error, best_ridge, ridge_degree = print_results(train_rmse_errors, test_rmse_errors, train_abs_errors, test_abs_errors, models)"
   ]
  },
  {
   "cell_type": "markdown",
   "metadata": {
    "id": "MN4RwweLuQYr"
   },
   "source": [
    "### 10a- Evaluate different degrees of ElasticNet CV polynomial regression"
   ]
  },
  {
   "cell_type": "code",
   "execution_count": 34,
   "metadata": {
    "collapsed": true,
    "id": "qK9SePrtuQYr"
   },
   "outputs": [],
   "source": [
    "train_rmse_errors, test_rmse_errors, train_abs_errors, test_abs_errors, models = evaluate_model('elastic')\n",
    "plot_errors(train_rmse_errors, test_rmse_errors, train_abs_errors, test_abs_errors)"
   ]
  },
  {
   "cell_type": "markdown",
   "metadata": {
    "id": "JSt5s73XuQYr"
   },
   "source": [
    "### 10b- Choose the best degree and print the errors, model coefficients and ElasticNet parameters."
   ]
  },
  {
   "cell_type": "code",
   "execution_count": 65,
   "metadata": {
    "collapsed": true,
    "id": "UkbcQLlLuQYr"
   },
   "outputs": [
    {
     "name": "stdout",
     "output_type": "stream",
     "text": [
      "Best model is of degree 4\n",
      "RMSE Test of best model: 21.27\n",
      "RMSE Train of best model: 19.06\n",
      "ABS Test of best model: 14.34\n",
      "ABS Train of best model: 13.59\n",
      "-------------------\n",
      "Best model coefficients are: \n",
      "[ 0.          5.6107007  19.67930201 ...  0.          0.\n",
      "  0.        ]\n",
      "-------------------\n",
      "The model chose the following alpha: \n",
      "0.03412531178948343\n"
     ]
    }
   ],
   "source": [
    "elastic_error, best_elastic, elastic_degree = print_results(train_rmse_errors, test_rmse_errors, train_abs_errors, test_abs_errors, models)"
   ]
  },
  {
   "cell_type": "markdown",
   "metadata": {
    "id": "O_cuFINquQYs"
   },
   "source": [
    "### 11- Compare the errors from the 3 regularization techniques, and save the best model."
   ]
  },
  {
   "cell_type": "code",
   "execution_count": 66,
   "metadata": {
    "collapsed": true,
    "id": "qn58GoGpuQYs"
   },
   "outputs": [
    {
     "data": {
      "text/plain": [
       "['best_model.joblib']"
      ]
     },
     "execution_count": 66,
     "metadata": {},
     "output_type": "execute_result"
    }
   ],
   "source": [
    "from joblib import load, dump\n",
    "if lasso_error == min(lasso_error, ridge_error, elastic_error):\n",
    "    model = best_lasso\n",
    "    degree = lasso_degree\n",
    "elif ridge_error == min(ridge_error, elastic_error):\n",
    "    model = best_ridge\n",
    "    degree = ridge_degree\n",
    "else:\n",
    "    model = best_elastic\n",
    "    degree = elastic_degree\n",
    "dump(model, 'best_model.joblib')\n"
   ]
  },
  {
   "cell_type": "markdown",
   "metadata": {
    "id": "IUGAAZY4uQYs"
   },
   "source": [
    "### 12- Load the best model and test it on a sample that you manually created it."
   ]
  },
  {
   "cell_type": "code",
   "execution_count": 72,
   "metadata": {
    "collapsed": true,
    "id": "SIw1mo3kuQYs"
   },
   "outputs": [
    {
     "data": {
      "text/plain": [
       "array([74.21101097])"
      ]
     },
     "execution_count": 72,
     "metadata": {},
     "output_type": "execute_result"
    }
   ],
   "source": [
    "model = load('best_model.joblib')\n",
    "example = [[880.0,704.0,913.0,1529.0,700.0,23.8,58.3,1.608,2004.0,8,22,10,0.0,0.0]]\n",
    "x = PolynomialFeatures(degree=degree).fit_transform(X_train)\n",
    "example = PolynomialFeatures(degree=degree).fit_transform(example)\n",
    "scalar.fit(x)\n",
    "example = scalar.transform(example)\n",
    "model.predict(example)"
   ]
  },
  {
   "cell_type": "markdown",
   "metadata": {
    "id": "G3dUEoJjj-AK"
   },
   "source": [
    "## Great work!\n",
    "----"
   ]
  }
 ],
 "metadata": {
  "anaconda-cloud": {},
  "colab": {
   "provenance": []
  },
  "kernelspec": {
   "display_name": "Python 3.10.8 64-bit (microsoft store)",
   "language": "python",
   "name": "python3"
  },
  "language_info": {
   "codemirror_mode": {
    "name": "ipython",
    "version": 3
   },
   "file_extension": ".py",
   "mimetype": "text/x-python",
   "name": "python",
   "nbconvert_exporter": "python",
   "pygments_lexer": "ipython3",
   "version": "3.10.8"
  },
  "vscode": {
   "interpreter": {
    "hash": "5c1f741a4f83aa020b4b2a4d7353a073a4e5e4a855a3258a20da40294ddbf005"
   }
  }
 },
 "nbformat": 4,
 "nbformat_minor": 1
}
